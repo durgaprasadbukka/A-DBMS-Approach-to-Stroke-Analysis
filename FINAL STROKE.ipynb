{
 "cells": [
  {
   "cell_type": "code",
   "execution_count": 16,
   "id": "7ca3a69a-73d0-4feb-914e-61b9fa030413",
   "metadata": {},
   "outputs": [],
   "source": [
    "import pandas as pd"
   ]
  },
  {
   "cell_type": "code",
   "execution_count": 23,
   "id": "5c7fada9-75dc-4059-98a5-6883b3c3f94a",
   "metadata": {},
   "outputs": [],
   "source": [
    "import mysql.connector"
   ]
  },
  {
   "cell_type": "code",
   "execution_count": 36,
   "id": "f9dec7c4-cc89-4d31-8e84-f6e9963b7849",
   "metadata": {},
   "outputs": [],
   "source": [
    "#input the credentials\n",
    "connection = mysql.connector.connect(\n",
    "    host=\"127.0.0.1\",  # Hostname\n",
    "    user=\"dbukka\",   # Username\n",
    "    password=\"OAPHLSH[zWRAaO*I\",  # Password\n",
    "    database=\"dbukka_db\"  # Database name\n",
    ")\n",
    "\n",
    "cursor = connection.cursor()"
   ]
  },
  {
   "cell_type": "code",
   "execution_count": 7,
   "id": "b396daad-e482-461f-8aa5-55fd85b3e3d5",
   "metadata": {},
   "outputs": [
    {
     "data": {
      "text/html": [
       "<div>\n",
       "<style scoped>\n",
       "    .dataframe tbody tr th:only-of-type {\n",
       "        vertical-align: middle;\n",
       "    }\n",
       "\n",
       "    .dataframe tbody tr th {\n",
       "        vertical-align: top;\n",
       "    }\n",
       "\n",
       "    .dataframe thead th {\n",
       "        text-align: right;\n",
       "    }\n",
       "</style>\n",
       "<table border=\"1\" class=\"dataframe\">\n",
       "  <thead>\n",
       "    <tr style=\"text-align: right;\">\n",
       "      <th></th>\n",
       "      <th>id</th>\n",
       "      <th>gender</th>\n",
       "      <th>age</th>\n",
       "      <th>hypertension</th>\n",
       "      <th>heart_disease</th>\n",
       "      <th>ever_married</th>\n",
       "      <th>work_type</th>\n",
       "      <th>Residence_type</th>\n",
       "      <th>avg_glucose_level</th>\n",
       "      <th>bmi</th>\n",
       "      <th>smoking_status</th>\n",
       "      <th>stroke</th>\n",
       "      <th>metric_id</th>\n",
       "      <th>lifestyle_id</th>\n",
       "      <th>condition_id</th>\n",
       "      <th>location_id</th>\n",
       "    </tr>\n",
       "  </thead>\n",
       "  <tbody>\n",
       "    <tr>\n",
       "      <th>0</th>\n",
       "      <td>9046</td>\n",
       "      <td>Male</td>\n",
       "      <td>67</td>\n",
       "      <td>0</td>\n",
       "      <td>1</td>\n",
       "      <td>Yes</td>\n",
       "      <td>Private</td>\n",
       "      <td>Urban</td>\n",
       "      <td>228.69</td>\n",
       "      <td>36.600000</td>\n",
       "      <td>formerly smoked</td>\n",
       "      <td>1</td>\n",
       "      <td>1</td>\n",
       "      <td>1</td>\n",
       "      <td>1</td>\n",
       "      <td>1</td>\n",
       "    </tr>\n",
       "    <tr>\n",
       "      <th>1</th>\n",
       "      <td>51676</td>\n",
       "      <td>Female</td>\n",
       "      <td>61</td>\n",
       "      <td>0</td>\n",
       "      <td>0</td>\n",
       "      <td>Yes</td>\n",
       "      <td>Self-employed</td>\n",
       "      <td>Rural</td>\n",
       "      <td>202.21</td>\n",
       "      <td>28.893237</td>\n",
       "      <td>never smoked</td>\n",
       "      <td>1</td>\n",
       "      <td>2</td>\n",
       "      <td>2</td>\n",
       "      <td>2</td>\n",
       "      <td>2</td>\n",
       "    </tr>\n",
       "    <tr>\n",
       "      <th>2</th>\n",
       "      <td>31112</td>\n",
       "      <td>Male</td>\n",
       "      <td>80</td>\n",
       "      <td>0</td>\n",
       "      <td>1</td>\n",
       "      <td>Yes</td>\n",
       "      <td>Private</td>\n",
       "      <td>Rural</td>\n",
       "      <td>105.92</td>\n",
       "      <td>32.500000</td>\n",
       "      <td>never smoked</td>\n",
       "      <td>1</td>\n",
       "      <td>3</td>\n",
       "      <td>3</td>\n",
       "      <td>3</td>\n",
       "      <td>3</td>\n",
       "    </tr>\n",
       "    <tr>\n",
       "      <th>3</th>\n",
       "      <td>60182</td>\n",
       "      <td>Female</td>\n",
       "      <td>49</td>\n",
       "      <td>0</td>\n",
       "      <td>0</td>\n",
       "      <td>Yes</td>\n",
       "      <td>Private</td>\n",
       "      <td>Urban</td>\n",
       "      <td>171.23</td>\n",
       "      <td>34.400000</td>\n",
       "      <td>smokes</td>\n",
       "      <td>1</td>\n",
       "      <td>4</td>\n",
       "      <td>4</td>\n",
       "      <td>4</td>\n",
       "      <td>4</td>\n",
       "    </tr>\n",
       "    <tr>\n",
       "      <th>4</th>\n",
       "      <td>1665</td>\n",
       "      <td>Female</td>\n",
       "      <td>79</td>\n",
       "      <td>1</td>\n",
       "      <td>0</td>\n",
       "      <td>Yes</td>\n",
       "      <td>Self-employed</td>\n",
       "      <td>Rural</td>\n",
       "      <td>174.12</td>\n",
       "      <td>24.000000</td>\n",
       "      <td>never smoked</td>\n",
       "      <td>1</td>\n",
       "      <td>5</td>\n",
       "      <td>5</td>\n",
       "      <td>5</td>\n",
       "      <td>5</td>\n",
       "    </tr>\n",
       "  </tbody>\n",
       "</table>\n",
       "</div>"
      ],
      "text/plain": [
       "      id  gender  age  hypertension  heart_disease ever_married  \\\n",
       "0   9046    Male   67             0              1          Yes   \n",
       "1  51676  Female   61             0              0          Yes   \n",
       "2  31112    Male   80             0              1          Yes   \n",
       "3  60182  Female   49             0              0          Yes   \n",
       "4   1665  Female   79             1              0          Yes   \n",
       "\n",
       "       work_type Residence_type  avg_glucose_level        bmi  \\\n",
       "0        Private          Urban             228.69  36.600000   \n",
       "1  Self-employed          Rural             202.21  28.893237   \n",
       "2        Private          Rural             105.92  32.500000   \n",
       "3        Private          Urban             171.23  34.400000   \n",
       "4  Self-employed          Rural             174.12  24.000000   \n",
       "\n",
       "    smoking_status  stroke  metric_id  lifestyle_id  condition_id  location_id  \n",
       "0  formerly smoked       1          1             1             1            1  \n",
       "1     never smoked       1          2             2             2            2  \n",
       "2     never smoked       1          3             3             3            3  \n",
       "3           smokes       1          4             4             4            4  \n",
       "4     never smoked       1          5             5             5            5  "
      ]
     },
     "execution_count": 7,
     "metadata": {},
     "output_type": "execute_result"
    }
   ],
   "source": [
    "# Step 2: Read the cleaned CSV file\n",
    "csv_file_path = \"enhanced_stroke_data.csv\"  # Update with the correct path to your CSV file\n",
    "data = pd.read_csv(csv_file_path)\n",
    "data.head()"
   ]
  },
  {
   "cell_type": "code",
   "execution_count": 28,
   "id": "c1903191-4dfe-4380-ba92-029f487caf37",
   "metadata": {},
   "outputs": [
    {
     "name": "stdout",
     "output_type": "stream",
     "text": [
      "Inserting data into Patient table...\n",
      "Inserting data into Conditions table...\n",
      "Inserting data into Lifestyle table...\n",
      "Inserting data into Metrics table...\n",
      "Inserting data into Location table...\n",
      "All data inserted successfully!\n"
     ]
    }
   ],
   "source": [
    "# Step 3: Populate Patient Table\n",
    "print(\"Inserting data into Patient table...\")\n",
    "for index, row in data.iterrows():\n",
    "    cursor.execute(\"\"\"\n",
    "        INSERT INTO Patient (Patient_ID, Gender, Age)\n",
    "        VALUES (%s, %s, %s)\n",
    "        ON DUPLICATE KEY UPDATE Gender=Gender;\n",
    "    \"\"\", (index + 1, row['gender'], row['age']))\n",
    "\n",
    "# Step 4: Populate Conditions Table\n",
    "print(\"Inserting data into Conditions table...\")\n",
    "for index, row in data.iterrows():\n",
    "    cursor.execute(\"\"\"\n",
    "        INSERT INTO Conditions (Conditions_ID, Patient_ID, Hypertension, Heart_Disease, Stroke)\n",
    "        VALUES (%s, %s, %s, %s, %s)\n",
    "        ON DUPLICATE KEY UPDATE Stroke=Stroke;\n",
    "    \"\"\", (index + 101, index + 1, row['hypertension'], row['heart_disease'], row['stroke']))\n",
    "\n",
    "# Step 5: Populate Lifestyle Table\n",
    "print(\"Inserting data into Lifestyle table...\")\n",
    "for index, row in data.iterrows():\n",
    "    cursor.execute(\"\"\"\n",
    "        INSERT INTO Lifestyle (Lifestyle_ID, Patient_ID, Conditions_ID, Smoking_Status, Work_Type, Ever_Married)\n",
    "        VALUES (%s, %s, %s, %s, %s, %s)\n",
    "        ON DUPLICATE KEY UPDATE Work_Type=Work_Type;\n",
    "    \"\"\", (index + 201, index + 1, index + 101, row['smoking_status'], row['work_type'], row['ever_married']))\n",
    "\n",
    "# Step 6: Populate Metrics Table\n",
    "print(\"Inserting data into Metrics table...\")\n",
    "for index, row in data.iterrows():\n",
    "    cursor.execute(\"\"\"\n",
    "        INSERT INTO Metrics (Metrics_ID, Patient_ID, Conditions_ID, Avg_Glucose_Level, BMI)\n",
    "        VALUES (%s, %s, %s, %s, %s)\n",
    "        ON DUPLICATE KEY UPDATE BMI=BMI;\n",
    "    \"\"\", (index + 301, index + 1, index + 101, row['avg_glucose_level'], row['bmi']))\n",
    "\n",
    "# Step 7: Populate Location Table\n",
    "print(\"Inserting data into Location table...\")\n",
    "for index, row in data.iterrows():\n",
    "    cursor.execute(\"\"\"\n",
    "        INSERT INTO Location (Location_ID, Patient_ID, Conditions_ID, Region)\n",
    "        VALUES (%s, %s, %s, %s)\n",
    "        ON DUPLICATE KEY UPDATE Region=Region;\n",
    "    \"\"\", (index + 401, index + 1, index + 101, row['Residence_type']))\n",
    "\n",
    "# Commit and close\n",
    "connection.commit()\n",
    "print(\"All data inserted successfully!\")\n",
    "\n",
    "cursor.close()\n",
    "connection.close()"
   ]
  },
  {
   "cell_type": "markdown",
   "id": "ffa96e2e-f8a6-40db-8c51-f41cd6707c7e",
   "metadata": {},
   "source": [
    "# Objective 1: Identify Key Health Factors Influencing Stroke"
   ]
  },
  {
   "cell_type": "markdown",
   "id": "2f3f0ba7-98cc-4cfb-aa6c-b7aa03ec168e",
   "metadata": {},
   "source": [
    "## Query 1.1: Patients with Stroke, Hypertension, and High BMI"
   ]
  },
  {
   "cell_type": "code",
   "execution_count": 37,
   "id": "f0ee39af-7f54-4de3-8067-fc617f8bb441",
   "metadata": {},
   "outputs": [
    {
     "name": "stdout",
     "output_type": "stream",
     "text": [
      "(22, 52, 48.9, 233.29, 1, 0, 1)\n",
      "(164, 78, 45.7, 203.87, 1, 0, 1)\n",
      "(197, 70, 45.5, 242.52, 1, 0, 1)\n",
      "(31, 57, 44.2, 212.08, 1, 0, 1)\n",
      "(192, 51, 42.5, 112.16, 1, 0, 1)\n",
      "(244, 68, 40.5, 247.51, 1, 1, 1)\n",
      "(218, 55, 40.0, 210.4, 1, 1, 1)\n",
      "(50, 39, 39.2, 58.09, 1, 0, 1)\n",
      "(185, 61, 37.4, 112.24, 1, 1, 1)\n",
      "(176, 72, 37.1, 185.49, 1, 0, 1)\n",
      "(144, 69, 36.8, 72.17, 1, 1, 1)\n",
      "(133, 69, 36.5, 182.99, 1, 0, 1)\n",
      "(131, 73, 36.5, 190.14, 1, 0, 1)\n",
      "(124, 56, 35.8, 249.31, 1, 0, 1)\n",
      "(230, 80, 35.4, 66.03, 1, 0, 1)\n",
      "(165, 70, 34.2, 89.13, 1, 0, 1)\n",
      "(209, 78, 33.6, 134.8, 1, 0, 1)\n",
      "(46, 76, 33.6, 243.58, 1, 0, 1)\n",
      "(149, 57, 32.9, 67.41, 1, 0, 1)\n",
      "(174, 80, 32.9, 91.02, 1, 0, 1)\n",
      "(59, 73, 32.8, 194.99, 1, 0, 1)\n",
      "(202, 80, 31.5, 175.29, 1, 1, 1)\n",
      "(54, 77, 31.4, 124.13, 1, 0, 1)\n",
      "(194, 68, 31.1, 271.74, 1, 1, 1)\n",
      "(73, 66, 31.1, 116.55, 1, 0, 1)\n",
      "(116, 71, 30.9, 216.94, 1, 1, 1)\n",
      "(16, 50, 30.9, 167.41, 1, 0, 1)\n",
      "(122, 53, 30.3, 62.55, 1, 0, 1)\n",
      "(107, 50, 30.3, 73.18, 1, 0, 1)\n"
     ]
    }
   ],
   "source": [
    "# Patients with Stroke, Hypertension, and High BMI\n",
    "cursor.execute(\"\"\"\n",
    "SELECT p.Patient_ID, p.Age, m.BMI, m.Avg_Glucose_Level, \n",
    "       c.Hypertension, c.Heart_Disease, c.Stroke\n",
    "FROM Patient p\n",
    "JOIN Conditions c ON p.Patient_ID = c.Patient_ID\n",
    "JOIN Metrics m ON c.Conditions_ID = m.Conditions_ID\n",
    "WHERE c.Stroke = 1 AND c.Hypertension = 1 AND m.BMI > 30\n",
    "ORDER BY m.BMI DESC;\n",
    "\"\"\")\n",
    "\n",
    "records = cursor.fetchall()\n",
    "for record in records:\n",
    "    print(record)"
   ]
  },
  {
   "cell_type": "markdown",
   "id": "a704a76a-ca61-4be4-994e-42cfb52e24de",
   "metadata": {},
   "source": [
    "## Query 1.2: Average Glucose and BMI for Stroke vs Non-Stroke Patients"
   ]
  },
  {
   "cell_type": "code",
   "execution_count": 38,
   "id": "40a17493-bffd-4e68-82b7-65bf98fe2a80",
   "metadata": {},
   "outputs": [
    {
     "name": "stdout",
     "output_type": "stream",
     "text": [
      "(0, 104.8, 28.83)\n",
      "(1, 132.54, 30.22)\n"
     ]
    }
   ],
   "source": [
    "# Average Glucose and BMI for Stroke vs Non-Stroke Patients\n",
    "\n",
    "cursor.execute(\"\"\"\n",
    "SELECT c.Stroke, \n",
    "       ROUND(AVG(m.Avg_Glucose_Level), 2) AS Avg_Glucose,\n",
    "       ROUND(AVG(m.BMI), 2) AS Avg_BMI\n",
    "FROM Conditions c\n",
    "JOIN Metrics m ON c.Conditions_ID = m.Conditions_ID\n",
    "GROUP BY c.Stroke;\n",
    "\"\"\")\n",
    "\n",
    "records = cursor.fetchall()\n",
    "for record in records:\n",
    "    print(record)\n"
   ]
  },
  {
   "cell_type": "markdown",
   "id": "c6e80d75-ec16-44b0-98f2-7e20f09dacb6",
   "metadata": {},
   "source": [
    "## Interpretation \n",
    "1. Stroke Grouping:\n",
    "Stroke = 0: Represents non-stroke patients.\n",
    "Stroke = 1: Represents stroke patients.\n",
    "2. Average Glucose Levels:\n",
    "Non-Stroke Patients: 104.8\n",
    "\n",
    "This is within the normal glucose range (typically 70-140 mg/dL).\n",
    "Indicates non-stroke patients generally have healthy glucose levels.\n",
    "Stroke Patients: 132.54\n",
    "\n",
    "This is significantly higher than for non-stroke patients.\n",
    "Interpretation: Elevated glucose levels (hyperglycemia) are strongly associated with stroke risk.\n",
    "Practical Insight: Managing glucose levels can help reduce the risk of stroke.\n",
    "3. Average BMI:\n",
    "Non-Stroke Patients: 28.83\n",
    "\n",
    "This falls in the overweight category (BMI between 25 and 29.9).\n",
    "Indicates a slightly higher BMI but not yet obesity.\n",
    "Stroke Patients: 30.22\n",
    "\n",
    "This is in the obese category (BMI ≥ 30).\n",
    "Interpretation: Obesity is a contributing factor to stroke risk.\n",
    "Practical Insight: BMI management (weight control) is important in reducing stroke incidence.\n",
    "Key Findings for Objective 1:\n",
    "Stroke patients have higher average glucose levels (132.54 vs 104.8).\n",
    "\n",
    "Hyperglycemia may play a significant role in increasing stroke risk.\n",
    "Stroke patients also have a higher BMI (30.22 vs 28.83).\n",
    "\n",
    "Although the difference is small, it confirms that obesity is more common in stroke patients.\n",
    "Conclusion:\n",
    "Both hyperglycemia and obesity are contributing factors to stroke risk.\n",
    "Practical interventions:\n",
    "Monitor and manage glucose levels for at-risk patients.\n",
    "Promote weight management strategies to reduce BMI."
   ]
  },
  {
   "cell_type": "code",
   "execution_count": 41,
   "id": "ce2fff7f-be6a-4761-92e1-d0fbf8f73fad",
   "metadata": {},
   "outputs": [
    {
     "name": "stdout",
     "output_type": "stream",
     "text": [
      "('Glucose', 27.75)\n",
      "('BMI', 1.39)\n"
     ]
    }
   ],
   "source": [
    "# Difference (or delta) between stroke and non-stroke groups for average glucose and BMI\n",
    "cursor.execute(\"\"\"\n",
    "SELECT \n",
    "    'Glucose' AS Metric,\n",
    "    ROUND(AVG(CASE WHEN c.Stroke = 1 THEN m.Avg_Glucose_Level END) \n",
    "        - AVG(CASE WHEN c.Stroke = 0 THEN m.Avg_Glucose_Level END), 2) AS Difference\n",
    "FROM Conditions c\n",
    "JOIN Metrics m ON c.Conditions_ID = m.Conditions_ID\n",
    "\n",
    "UNION ALL\n",
    "\n",
    "SELECT \n",
    "    'BMI' AS Metric,\n",
    "    ROUND(AVG(CASE WHEN c.Stroke = 1 THEN m.BMI END) \n",
    "        - AVG(CASE WHEN c.Stroke = 0 THEN m.BMI END), 2) AS Difference\n",
    "FROM Conditions c\n",
    "JOIN Metrics m ON c.Conditions_ID = m.Conditions_ID;\n",
    "\"\"\")\n",
    "\n",
    "records = cursor.fetchall()\n",
    "for record in records:\n",
    "    print(record)\n"
   ]
  },
  {
   "cell_type": "markdown",
   "id": "64eeab0f-365d-4ce6-9345-679c6b26c5da",
   "metadata": {},
   "source": [
    "## Interpretation:\n",
    "Glucose Difference (27.75):\n",
    "\n",
    "Stroke patients, on average, have a 27.75 units higher glucose level than non-stroke patients.\n",
    "This indicates a strong correlation between elevated glucose levels (hyperglycemia) and stroke risk.\n",
    "Practical Insight: Patients with higher average glucose levels might be at increased risk of stroke, highlighting the need for glucose management in stroke prevention.\n",
    "BMI Difference (1.39):\n",
    "\n",
    "Stroke patients, on average, have a slightly higher BMI (by 1.39 units) than non-stroke patients.\n",
    "This suggests that while BMI is a contributing factor, its impact might be less significant compared to glucose levels.\n",
    "Practical Insight: Obesity (high BMI) may still play a role in stroke risk, but other factors like glucose levels or hypertension might be more impactful."
   ]
  },
  {
   "cell_type": "markdown",
   "id": "48119909-e83f-4bd4-9bee-5542f33515a7",
   "metadata": {},
   "source": [
    "## Objective 2: Analyze the Impact of Lifestyle on Stroke Risk"
   ]
  },
  {
   "cell_type": "markdown",
   "id": "c4beb8cd-2a75-4646-901d-6e0018415196",
   "metadata": {},
   "source": [
    "# Query 2.1: Stroke Count Grouped by Smoking Status"
   ]
  },
  {
   "cell_type": "code",
   "execution_count": 42,
   "id": "46873904-7af9-4d99-a1e8-6ebe573b46a8",
   "metadata": {},
   "outputs": [
    {
     "name": "stdout",
     "output_type": "stream",
     "text": [
      "('never smoked', 90)\n",
      "('formerly smoked', 70)\n",
      "('Unknown', 47)\n",
      "('smokes', 42)\n"
     ]
    }
   ],
   "source": [
    "# Stroke Count Grouped by Smoking Status\n",
    "cursor.execute(\"\"\"\n",
    "SELECT l.Smoking_Status, COUNT(c.Stroke) AS Stroke_Count\n",
    "FROM Lifestyle l\n",
    "JOIN Conditions c ON l.Conditions_ID = c.Conditions_ID\n",
    "WHERE c.Stroke = 1\n",
    "GROUP BY l.Smoking_Status\n",
    "ORDER BY Stroke_Count DESC;\n",
    "\"\"\")\n",
    "\n",
    "records = cursor.fetchall()\n",
    "for record in records:\n",
    "    print(record)\n"
   ]
  },
  {
   "cell_type": "markdown",
   "id": "7d5012a6-e13c-474c-b73c-e9c75db3ca2f",
   "metadata": {},
   "source": [
    "## Interpretation\n",
    "1. Smoking Status and Stroke Risk\n",
    "Never Smoked (90 cases):\n",
    "\n",
    "The highest number of stroke cases are observed among individuals who never smoked.\n",
    "Possible Explanation:\n",
    "Non-smoking patients may still have other contributing risk factors (e.g., hypertension, high glucose levels, obesity, heart disease).\n",
    "It also highlights that smoking is not the only factor influencing stroke risk.\n",
    "Formerly Smoked (70 cases):\n",
    "\n",
    "Patients who quit smoking still show a relatively high stroke count.\n",
    "Interpretation:\n",
    "Previous smoking exposure may have long-term effects on cardiovascular health, increasing stroke risk even after quitting.\n",
    "Unknown (47 cases):\n",
    "\n",
    "The smoking status for these patients is unknown.\n",
    "Impact:\n",
    "This incomplete data may mask patterns.\n",
    "Suggestion: Further data collection or cleaning to clarify smoking history could improve the analysis.\n",
    "Smokes (42 cases):\n",
    "\n",
    "Surprisingly, active smokers have the lowest stroke count among the groups.\n",
    "Possible Explanation:\n",
    "Smaller sample size for smokers in your dataset.\n",
    "Smokers might be underrepresented compared to non-smokers.\n",
    "Alternatively, smoking could correlate with earlier mortality from other diseases before stroke develops.\n",
    "Key Insights:\n",
    "Stroke occurs most frequently among people who never smoked and those who formerly smoked.\n",
    "Smoking Status Alone is not sufficient to determine stroke risk; other factors like hypertension, BMI, and glucose levels must be analyzed alongside.\n",
    "The \"Unknown\" group highlights a need for better data completeness to confirm smoking's role in stroke outcomes.\n"
   ]
  },
  {
   "cell_type": "markdown",
   "id": "35649331-29d2-452f-bfa0-513bf71fbde9",
   "metadata": {},
   "source": [
    "# Next Steps:\n",
    "Cross-check smoking status with other risk factors (e.g., hypertension, glucose levels):\n",
    "\n",
    "Do non-smokers have higher hypertension rates?\n",
    "Are formerly smokers more obese? "
   ]
  },
  {
   "cell_type": "code",
   "execution_count": 45,
   "id": "60bc1ca5-f23f-4928-a39e-6e1b83816fd2",
   "metadata": {
    "scrolled": true
   },
   "outputs": [
    {
     "name": "stdout",
     "output_type": "stream",
     "text": [
      "('formerly smoked', 120, 885, Decimal('13.56'))\n",
      "('never smoked', 232, 1892, Decimal('12.26'))\n",
      "('smokes', 94, 789, Decimal('11.91'))\n",
      "('Unknown', 52, 1544, Decimal('3.37'))\n"
     ]
    }
   ],
   "source": [
    "# Do non-smokers have higher hypertension rates?\n",
    "cursor.execute(\"\"\"\n",
    "SELECT \n",
    "    l.Smoking_Status AS 'Smoking Status', \n",
    "    COUNT(CASE WHEN c.Hypertension = 1 THEN 1 END) AS 'Hypertensive Count',\n",
    "    COUNT(*) AS 'Total Count',\n",
    "    ROUND((COUNT(CASE WHEN c.Hypertension = 1 THEN 1 END) / COUNT(*)) * 100, 2) AS 'Hypertension Percentage'\n",
    "FROM Lifestyle l\n",
    "JOIN Conditions c ON l.Conditions_ID = c.Conditions_ID\n",
    "GROUP BY l.Smoking_Status\n",
    "ORDER BY 'Hypertension Percentage' DESC;\n",
    "\"\"\")\n",
    "\n",
    "records = cursor.fetchall()\n",
    "for record in records:\n",
    "    print(record)"
   ]
  },
  {
   "cell_type": "code",
   "execution_count": null,
   "id": "8a24e258-e670-40f8-9801-113dfc4d3511",
   "metadata": {},
   "outputs": [],
   "source": [
    "## Interpretation\n",
    "1. Formerly Smoked (13.56%):\n",
    "Patients who quit smoking have the highest percentage of hypertension (13.56%).\n",
    "Insight: Long-term effects of past smoking could contribute to higher hypertension rates even after quitting.\n",
    "2. Never Smoked (12.26%):\n",
    "Surprisingly, patients who never smoked also have a notable hypertension rate (12.26%).\n",
    "Insight: Other risk factors (e.g., obesity, glucose levels, genetics) likely contribute to hypertension in non-smokers.\n",
    "3. Smokes (11.91%):\n",
    "Current smokers have a slightly lower hypertension rate (11.91%) compared to former and never smokers.\n",
    "Insight: This may be due to sample size bias or smokers experiencing other health complications before hypertension develops.\n",
    "4. Unknown (3.37%):\n",
    "Patients with an unknown smoking status have the lowest hypertension rate (3.37%).\n",
    "Insight: Incomplete or misreported data may affect this result. These cases need further clarification.\n",
    "Key Takeaways:\n",
    "Former Smokers have the highest hypertension rate, indicating lingering effects of smoking on cardiovascular health.\n",
    "Non-Smokers also show notable hypertension rates, suggesting other contributing factors like diet, genetics, or stress.\n",
    "Further analysis can include cross-checking hypertension with BMI or glucose levels to identify additional correlations."
   ]
  },
  {
   "cell_type": "code",
   "execution_count": 46,
   "id": "b45bc450-c568-420f-bf17-a78f300e44a8",
   "metadata": {},
   "outputs": [
    {
     "name": "stdout",
     "output_type": "stream",
     "text": [
      "('formerly smoked', 30.65)\n",
      "('never smoked', 29.96)\n",
      "('smokes', 30.43)\n",
      "('Unknown', 25.79)\n"
     ]
    }
   ],
   "source": [
    "# Are formerly smokers more obese? \n",
    "cursor.execute(\"\"\"\n",
    "SELECT \n",
    "    l.Smoking_Status AS 'Smoking Status', \n",
    "    ROUND(AVG(m.BMI), 2) AS 'Average BMI'\n",
    "FROM Lifestyle l\n",
    "JOIN Conditions c ON l.Conditions_ID = c.Conditions_ID\n",
    "JOIN Metrics m ON c.Conditions_ID = m.Conditions_ID\n",
    "GROUP BY l.Smoking_Status\n",
    "ORDER BY 'Average BMI' DESC;\n",
    "\"\"\")\n",
    "\n",
    "records = cursor.fetchall()\n",
    "for record in records:\n",
    "    print(record)"
   ]
  },
  {
   "cell_type": "markdown",
   "id": "e93dbb54-7dff-4abf-8530-4e18fc0629c8",
   "metadata": {},
   "source": [
    "## Query 2.2: Stroke Count Grouped by Work Type"
   ]
  },
  {
   "cell_type": "code",
   "execution_count": null,
   "id": "38b29c53-04f9-4839-a6d3-7ead8d50db12",
   "metadata": {},
   "outputs": [],
   "source": [
    "# Stroke Count Grouped by Work Type"
   ]
  },
  {
   "cell_type": "code",
   "execution_count": 44,
   "id": "0cbf7537-efa8-47c4-afce-8585a88a6576",
   "metadata": {},
   "outputs": [
    {
     "name": "stdout",
     "output_type": "stream",
     "text": [
      "('Private', 149)\n",
      "('Self-employed', 65)\n",
      "('Govt_job', 33)\n",
      "('children', 2)\n"
     ]
    }
   ],
   "source": [
    "# Stroke Count Grouped by Smoking Status\n",
    "cursor.execute(\"\"\"\n",
    "SELECT l.Work_Type, COUNT(c.Stroke) AS Stroke_Count\n",
    "FROM Lifestyle l\n",
    "JOIN Conditions c ON l.Conditions_ID = c.Conditions_ID\n",
    "WHERE c.Stroke = 1\n",
    "GROUP BY l.Work_Type\n",
    "ORDER BY Stroke_Count DESC;\n",
    "\"\"\")\n",
    "\n",
    "records = cursor.fetchall()\n",
    "for record in records:\n",
    "    print(record)"
   ]
  },
  {
   "cell_type": "markdown",
   "id": "7ef2b73e-aafe-433a-83e0-7c563e60592a",
   "metadata": {},
   "source": [
    "## Interpretation:\n",
    "Private Sector (149 cases):\n",
    "\n",
    "The highest number of stroke cases are observed among individuals working in the private sector.\n",
    "This could be due to higher stress, sedentary lifestyles, or other factors common in private-sector jobs.\n",
    "Self-Employed (65 cases):\n",
    "\n",
    "Stroke cases are also significant among self-employed individuals, indicating possible work-related stress or inconsistent access to healthcare.\n",
    "Government Jobs (33 cases):\n",
    "\n",
    "Fewer stroke cases are seen among individuals with government jobs.\n",
    "This may suggest better job security, healthcare access, or a balanced lifestyle.\n",
    "Children (2 cases):\n",
    "\n",
    "Very few stroke cases are observed in the children category, as expected.\n",
    "Stroke is rare in children compared to adults.\n",
    "Key Takeaways:\n",
    "The Private sector has the most stroke cases, suggesting a need to address work-related health risks.\n",
    "Self-employed individuals may also benefit from targeted health interventions.\n",
    "Government workers and children have comparatively lower stroke incidences."
   ]
  },
  {
   "cell_type": "markdown",
   "id": "296e011a-3b7e-40d5-805c-08e1527889a3",
   "metadata": {},
   "source": [
    "# Objective 3: Geographical Insights into Health Conditions and Stroke"
   ]
  },
  {
   "cell_type": "code",
   "execution_count": null,
   "id": "79937e48-8ab0-4484-8a1c-1dc1d7f6bd68",
   "metadata": {},
   "outputs": [],
   "source": [
    "## Query 3.1: Stroke Cases by Region"
   ]
  },
  {
   "cell_type": "code",
   "execution_count": 47,
   "id": "31ff984e-dc02-458a-aae3-cd33eb87bcdc",
   "metadata": {},
   "outputs": [
    {
     "name": "stdout",
     "output_type": "stream",
     "text": [
      "('Urban', 135)\n",
      "('Rural', 114)\n"
     ]
    }
   ],
   "source": [
    "# Stroke Cases by Region\n",
    "\n",
    "cursor.execute(\"\"\"\n",
    "SELECT loc.Region, COUNT(c.Stroke) AS Stroke_Count\n",
    "FROM Location loc\n",
    "JOIN Conditions c ON loc.Conditions_ID = c.Conditions_ID\n",
    "WHERE c.Stroke = 1\n",
    "GROUP BY loc.Region\n",
    "ORDER BY Stroke_Count DESC;\n",
    "\"\"\")\n",
    "\n",
    "records = cursor.fetchall()\n",
    "for record in records:\n",
    "    print(record)\n"
   ]
  },
  {
   "cell_type": "markdown",
   "id": "9eebc5ed-34eb-4e01-af0d-58e46eaac392",
   "metadata": {},
   "source": [
    "# Query 3.2: Region-Wise Distribution of Patients with Hypertension"
   ]
  },
  {
   "cell_type": "code",
   "execution_count": 48,
   "id": "dd9f0752-b95b-4d60-adb3-c85b74c037e7",
   "metadata": {},
   "outputs": [
    {
     "name": "stdout",
     "output_type": "stream",
     "text": [
      "('Rural', 251)\n",
      "('Urban', 247)\n"
     ]
    }
   ],
   "source": [
    "# Region-Wise Distribution of Patients with Hypertension\n",
    "\n",
    "cursor.execute(\"\"\"\n",
    "SELECT loc.Region, COUNT(c.Hypertension) AS Hypertension_Count\n",
    "FROM Location loc\n",
    "JOIN Conditions c ON loc.Conditions_ID = c.Conditions_ID\n",
    "WHERE c.Hypertension = 1\n",
    "GROUP BY loc.Region\n",
    "ORDER BY Hypertension_Count DESC;\n",
    "\"\"\")\n",
    "\n",
    "records = cursor.fetchall()\n",
    "for record in records:\n",
    "    print(record)\n"
   ]
  }
 ],
 "metadata": {
  "kernelspec": {
   "display_name": "Python 3 (ipykernel)",
   "language": "python",
   "name": "python3"
  },
  "language_info": {
   "codemirror_mode": {
    "name": "ipython",
    "version": 3
   },
   "file_extension": ".py",
   "mimetype": "text/x-python",
   "name": "python",
   "nbconvert_exporter": "python",
   "pygments_lexer": "ipython3",
   "version": "3.10.12"
  }
 },
 "nbformat": 4,
 "nbformat_minor": 5
}
